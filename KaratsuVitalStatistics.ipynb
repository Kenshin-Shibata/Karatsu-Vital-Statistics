{
  "nbformat": 4,
  "nbformat_minor": 0,
  "metadata": {
    "colab": {
      "name": "KaratsuVitalStatistics.ipynb",
      "provenance": [],
      "collapsed_sections": [],
      "authorship_tag": "ABX9TyMp3DpFOys3JeMQShZdmh0/",
      "include_colab_link": true
    },
    "kernelspec": {
      "name": "python3",
      "display_name": "Python 3"
    },
    "language_info": {
      "name": "python"
    }
  },
  "cells": [
    {
      "cell_type": "markdown",
      "metadata": {
        "id": "view-in-github",
        "colab_type": "text"
      },
      "source": [
        "<a href=\"https://colab.research.google.com/github/Kenshin-Shibata/Karatsu-Vital-Statistics/blob/main/KaratsuVitalStatistics.ipynb\" target=\"_parent\"><img src=\"https://colab.research.google.com/assets/colab-badge.svg\" alt=\"Open In Colab\"/></a>"
      ]
    },
    {
      "cell_type": "code",
      "metadata": {
        "colab": {
          "base_uri": "https://localhost:8080/"
        },
        "id": "G23g9Oto6L7Q",
        "outputId": "ae52802a-13fd-4c7a-e537-34169424bcde"
      },
      "source": [
        "!pip install japanize-matplotlib"
      ],
      "execution_count": null,
      "outputs": [
        {
          "output_type": "stream",
          "name": "stdout",
          "text": [
            "Requirement already satisfied: japanize-matplotlib in /usr/local/lib/python3.7/dist-packages (1.1.3)\n",
            "Requirement already satisfied: matplotlib in /usr/local/lib/python3.7/dist-packages (from japanize-matplotlib) (3.2.2)\n",
            "Requirement already satisfied: cycler>=0.10 in /usr/local/lib/python3.7/dist-packages (from matplotlib->japanize-matplotlib) (0.11.0)\n",
            "Requirement already satisfied: pyparsing!=2.0.4,!=2.1.2,!=2.1.6,>=2.0.1 in /usr/local/lib/python3.7/dist-packages (from matplotlib->japanize-matplotlib) (3.0.6)\n",
            "Requirement already satisfied: kiwisolver>=1.0.1 in /usr/local/lib/python3.7/dist-packages (from matplotlib->japanize-matplotlib) (1.3.2)\n",
            "Requirement already satisfied: python-dateutil>=2.1 in /usr/local/lib/python3.7/dist-packages (from matplotlib->japanize-matplotlib) (2.8.2)\n",
            "Requirement already satisfied: numpy>=1.11 in /usr/local/lib/python3.7/dist-packages (from matplotlib->japanize-matplotlib) (1.19.5)\n",
            "Requirement already satisfied: six>=1.5 in /usr/local/lib/python3.7/dist-packages (from python-dateutil>=2.1->matplotlib->japanize-matplotlib) (1.15.0)\n"
          ]
        }
      ]
    },
    {
      "cell_type": "code",
      "metadata": {
        "id": "IMEj1lNv6YHE"
      },
      "source": [
        "import pandas as pd \n",
        "import matplotlib as mpl\n",
        "import matplotlib.pyplot as plt\n",
        "import japanize_matplotlib\n",
        "from google.colab import files"
      ],
      "execution_count": null,
      "outputs": []
    },
    {
      "cell_type": "code",
      "metadata": {
        "colab": {
          "base_uri": "https://localhost:8080/",
          "height": 423
        },
        "id": "7JzF0VB96arh",
        "outputId": "5012477b-0e02-4f89-c4ff-9a8ef5093473"
      },
      "source": [
        "# データフレームの生成\n",
        "df = pd.read_csv('karatsu-vital-statistics.csv')\n",
        "\n",
        "# HTMLで表示(=display(df))\n",
        "df"
      ],
      "execution_count": null,
      "outputs": [
        {
          "output_type": "execute_result",
          "data": {
            "text/html": [
              "<div>\n",
              "<style scoped>\n",
              "    .dataframe tbody tr th:only-of-type {\n",
              "        vertical-align: middle;\n",
              "    }\n",
              "\n",
              "    .dataframe tbody tr th {\n",
              "        vertical-align: top;\n",
              "    }\n",
              "\n",
              "    .dataframe thead th {\n",
              "        text-align: right;\n",
              "    }\n",
              "</style>\n",
              "<table border=\"1\" class=\"dataframe\">\n",
              "  <thead>\n",
              "    <tr style=\"text-align: right;\">\n",
              "      <th></th>\n",
              "      <th>年</th>\n",
              "      <th>人口</th>\n",
              "      <th>転入</th>\n",
              "      <th>転出</th>\n",
              "    </tr>\n",
              "  </thead>\n",
              "  <tbody>\n",
              "    <tr>\n",
              "      <th>0</th>\n",
              "      <td>2006</td>\n",
              "      <td>130152</td>\n",
              "      <td>3355</td>\n",
              "      <td>4158</td>\n",
              "    </tr>\n",
              "    <tr>\n",
              "      <th>1</th>\n",
              "      <td>2007</td>\n",
              "      <td>129302</td>\n",
              "      <td>3270</td>\n",
              "      <td>3950</td>\n",
              "    </tr>\n",
              "    <tr>\n",
              "      <th>2</th>\n",
              "      <td>2008</td>\n",
              "      <td>128551</td>\n",
              "      <td>3217</td>\n",
              "      <td>3733</td>\n",
              "    </tr>\n",
              "    <tr>\n",
              "      <th>3</th>\n",
              "      <td>2009</td>\n",
              "      <td>127967</td>\n",
              "      <td>3392</td>\n",
              "      <td>3688</td>\n",
              "    </tr>\n",
              "    <tr>\n",
              "      <th>4</th>\n",
              "      <td>2010</td>\n",
              "      <td>126926</td>\n",
              "      <td>3028</td>\n",
              "      <td>3480</td>\n",
              "    </tr>\n",
              "    <tr>\n",
              "      <th>...</th>\n",
              "      <td>...</td>\n",
              "      <td>...</td>\n",
              "      <td>...</td>\n",
              "      <td>...</td>\n",
              "    </tr>\n",
              "    <tr>\n",
              "      <th>10</th>\n",
              "      <td>2016</td>\n",
              "      <td>121610</td>\n",
              "      <td>2725</td>\n",
              "      <td>3358</td>\n",
              "    </tr>\n",
              "    <tr>\n",
              "      <th>11</th>\n",
              "      <td>2017</td>\n",
              "      <td>120331</td>\n",
              "      <td>2713</td>\n",
              "      <td>3341</td>\n",
              "    </tr>\n",
              "    <tr>\n",
              "      <th>12</th>\n",
              "      <td>2018</td>\n",
              "      <td>119208</td>\n",
              "      <td>2847</td>\n",
              "      <td>3335</td>\n",
              "    </tr>\n",
              "    <tr>\n",
              "      <th>13</th>\n",
              "      <td>2019</td>\n",
              "      <td>117847</td>\n",
              "      <td>2785</td>\n",
              "      <td>3461</td>\n",
              "    </tr>\n",
              "    <tr>\n",
              "      <th>14</th>\n",
              "      <td>2020</td>\n",
              "      <td>116457</td>\n",
              "      <td>2722</td>\n",
              "      <td>3318</td>\n",
              "    </tr>\n",
              "  </tbody>\n",
              "</table>\n",
              "<p>15 rows × 4 columns</p>\n",
              "</div>"
            ],
            "text/plain": [
              "       年      人口    転入    転出\n",
              "0   2006  130152  3355  4158\n",
              "1   2007  129302  3270  3950\n",
              "2   2008  128551  3217  3733\n",
              "3   2009  127967  3392  3688\n",
              "4   2010  126926  3028  3480\n",
              "..   ...     ...   ...   ...\n",
              "10  2016  121610  2725  3358\n",
              "11  2017  120331  2713  3341\n",
              "12  2018  119208  2847  3335\n",
              "13  2019  117847  2785  3461\n",
              "14  2020  116457  2722  3318\n",
              "\n",
              "[15 rows x 4 columns]"
            ]
          },
          "metadata": {},
          "execution_count": 160
        }
      ]
    },
    {
      "cell_type": "code",
      "metadata": {
        "id": "lXdh52UlNGCZ"
      },
      "source": [
        "x=df[\"年\"]\n",
        "y1=df[\"人口\"]\n",
        "y2=df[\"転入\"]\n",
        "y3=df[\"転出\"]\n"
      ],
      "execution_count": null,
      "outputs": []
    },
    {
      "cell_type": "code",
      "metadata": {
        "colab": {
          "base_uri": "https://localhost:8080/",
          "height": 294
        },
        "id": "7n7cn9ShNZFf",
        "outputId": "aca4cec7-2df3-49d4-bd2e-0ba18c4f3d2e"
      },
      "source": [
        "fig, ax1 = plt.subplots( )\n",
        "plt.subplots_adjust(left=0.15, right=0.75, bottom=0.1, top=0.9)\n",
        "ax1.plot(x, y1, marker=\"o\", color=\"r\", label=\"人口\")\n",
        "ax1.set_ylabel(\"人口\", color='r')\n",
        "ax1.tick_params('y', colors=\"r\")\n",
        "ax1.set_title('唐津市の人口移動推移図(引用:佐賀県統計分析課｢佐賀県人口移動調査｣)', loc='center')\n",
        "\n",
        "\n",
        "ax2 = ax1.twinx()\n",
        "ax3 = ax1.twinx()\n",
        "\n",
        "ax2.plot(x, y2, marker=\"o\",color=\"b\", label=\"転入数\")\n",
        "ax2.set_ylabel(\"転入\", color=\"b\")\n",
        "ax2.tick_params('y', colors=\"b\")\n",
        "\n",
        "ax3.plot(x, y3, marker=\"o\", color=\"g\", label=\"転出数\")\n",
        "ax3.set_ylabel(\"転出\", color=\"g\")\n",
        "ax3.tick_params('y', colors=\"g\")\n",
        "\n",
        "ax3.spines[\"right\"].set_position((\"axes\", 1.2))\n",
        "\n",
        "# 右上に各軸のラベルを表示\n",
        "h1, l1 = ax1.get_legend_handles_labels()\n",
        "h2, l2 = ax2.get_legend_handles_labels()\n",
        "h3, l3 = ax3.get_legend_handles_labels()\n",
        "ax1.legend(h1 + h2 +h3, l1 + l2 +l3 ,loc='upper right')\n",
        "\n",
        "plt.savefig(\"result.png\")\n",
        "plt.show()\n"
      ],
      "execution_count": null,
      "outputs": [
        {
          "output_type": "display_data",
          "data": {
            "image/png": "[encoded data removed]",
            "text/plain": [
              "<Figure size 432x288 with 3 Axes>"
            ]
          },
          "metadata": {
            "needs_background": "light"
          }
        }
      ]
    }
  ]
}